{
 "cells": [
  {
   "cell_type": "markdown",
   "metadata": {},
   "source": [
    "# Игра угадай число"
   ]
  },
  {
   "cell_type": "markdown",
   "metadata": {},
   "source": [
    "## Угадываем рандомно"
   ]
  },
  {
   "cell_type": "code",
   "execution_count": 11,
   "metadata": {},
   "outputs": [
    {
     "name": "stdout",
     "output_type": "stream",
     "text": [
      "Тест random_predict: Среднее количество попыток: 100\n",
      "Тест game_core_v2: Среднее количество попыток: 32\n",
      "Тест game_core_v3: Среднее количество попыток: 5\n"
     ]
    },
    {
     "data": {
      "text/plain": [
       "5"
      ]
     },
     "execution_count": 11,
     "metadata": {},
     "output_type": "execute_result"
    }
   ],
   "source": [
    "import numpy as np\n",
    "\n",
    "def random_predict(number: int = 1) -> int:\n",
    "    \"\"\"Рандомно угадываем число (базовый алгоритм).\"\"\"\n",
    "    count = 0\n",
    "    while True:\n",
    "        count += 1\n",
    "        predict_number = np.random.randint(1, 101)\n",
    "        if number == predict_number:\n",
    "            break\n",
    "    return count\n",
    "\n",
    "def game_core_v2(number: int = 1) -> int:\n",
    "    \"\"\"Улучшенный алгоритм: двигаемся к числу шаг за шагом.\"\"\"\n",
    "    count = 0\n",
    "    predict = np.random.randint(1, 101)\n",
    "    while number != predict:\n",
    "        count += 1\n",
    "        if number > predict:\n",
    "            predict += 1\n",
    "        elif number < predict:\n",
    "            predict -= 1\n",
    "    return count\n",
    "\n",
    "def game_core_v3(number: int = 1) -> int:\n",
    "    \"\"\"Оптимальный алгоритм: бинарный поиск (макс. 7 попыток).\"\"\"\n",
    "    count = 0\n",
    "    low, high = 1, 100\n",
    "    while low <= high:\n",
    "        count += 1\n",
    "        mid = (low + high) // 2\n",
    "        if mid == number:\n",
    "            break\n",
    "        elif mid < number:\n",
    "            low = mid + 1\n",
    "        else:\n",
    "            high = mid - 1\n",
    "    return count\n",
    "\n",
    "def score_game(random_predict) -> int:\n",
    "    \"\"\"Оцениваем среднее количество попыток за 10000 прогонов.\"\"\"\n",
    "    count_ls = []\n",
    "    np.random.seed(1)  # Фиксируем seed для воспроизводимости\n",
    "    random_array = np.random.randint(1, 101, size=10000)\n",
    "    for number in random_array:\n",
    "        count_ls.append(random_predict(number))\n",
    "    score = int(np.mean(count_ls))\n",
    "    print(f\"Среднее количество попыток: {score}\")\n",
    "    return score\n",
    "\n",
    "# Тестируем алгоритмы\n",
    "print('Тест random_predict:', end=' ')\n",
    "score_game(random_predict)\n",
    "\n",
    "print('Тест game_core_v2:', end=' ')\n",
    "score_game(game_core_v2)\n",
    "\n",
    "print('Тест game_core_v3:', end=' ')\n",
    "score_game(game_core_v3)"
   ]
  },
  {
   "cell_type": "code",
   "execution_count": 13,
   "metadata": {},
   "outputs": [
    {
     "name": "stdout",
     "output_type": "stream",
     "text": [
      "Run benchmarking for game_core_v3: Среднее количество попыток: 5\n"
     ]
    },
    {
     "data": {
      "text/plain": [
       "5"
      ]
     },
     "execution_count": 13,
     "metadata": {},
     "output_type": "execute_result"
    }
   ],
   "source": [
    "print('Run benchmarking for game_core_v3: ', end='')\n",
    "score_game(game_core_v3)"
   ]
  }
 ],
 "metadata": {
  "kernelspec": {
   "display_name": "Python 3",
   "language": "python",
   "name": "python3"
  },
  "language_info": {
   "codemirror_mode": {
    "name": "ipython",
    "version": 3
   },
   "file_extension": ".py",
   "mimetype": "text/x-python",
   "name": "python",
   "nbconvert_exporter": "python",
   "pygments_lexer": "ipython3",
   "version": "3.10.11"
  },
  "orig_nbformat": 4
 },
 "nbformat": 4,
 "nbformat_minor": 2
}
